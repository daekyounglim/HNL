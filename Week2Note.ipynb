{
 "cells": [
  {
   "cell_type": "code",
   "execution_count": 82,
   "metadata": {},
   "outputs": [],
   "source": [
    "import numpy as np\n",
    "import pandas as pd\n",
    "import matplotlib.pyplot as plt\n",
    "\n",
    "\n",
    "%matplotlib inline"
   ]
  },
  {
   "cell_type": "markdown",
   "metadata": {},
   "source": [
    "---\n",
    "\n",
    "# Part 1. Predicting housing prices\n",
    "\n",
    "\n",
    "Data from [Kaggle competition](https://www.kaggle.com/c/house-prices-advanced-regression-techniques/data)."
   ]
  },
  {
   "cell_type": "code",
   "execution_count": 83,
   "metadata": {},
   "outputs": [],
   "source": [
    "data = pd.read_csv('house_prices_train.csv', index_col=0)"
   ]
  },
  {
   "cell_type": "markdown",
   "metadata": {},
   "source": [
    "## 1. Prepare the data"
   ]
  },
  {
   "cell_type": "markdown",
   "metadata": {},
   "source": [
    "### 1.1 Explore the dataset\n",
    "\n",
    "- Which features do we have?\n",
    "- Are there useless (e.g. no information, too many missing values)\n",
    "     * `data.isna().sum()`\n",
    "     * `data.describe(include='all')`\n",
    "     * `data['column_name'].value_counts()`\n",
    "     * bar plots\n",
    "- Can you compute new relevant features?"
   ]
  },
  {
   "cell_type": "code",
   "execution_count": 84,
   "metadata": {},
   "outputs": [
    {
     "data": {
      "text/html": [
       "<div>\n",
       "<style scoped>\n",
       "    .dataframe tbody tr th:only-of-type {\n",
       "        vertical-align: middle;\n",
       "    }\n",
       "\n",
       "    .dataframe tbody tr th {\n",
       "        vertical-align: top;\n",
       "    }\n",
       "\n",
       "    .dataframe thead th {\n",
       "        text-align: right;\n",
       "    }\n",
       "</style>\n",
       "<table border=\"1\" class=\"dataframe\">\n",
       "  <thead>\n",
       "    <tr style=\"text-align: right;\">\n",
       "      <th></th>\n",
       "      <th>Id</th>\n",
       "      <th>Alley</th>\n",
       "      <th>Fence</th>\n",
       "      <th>SalePrice</th>\n",
       "      <th>LotArea</th>\n",
       "      <th>OverallQual</th>\n",
       "      <th>YearRemodAdd</th>\n",
       "      <th>YearBuilt</th>\n",
       "      <th>MasVnrArea</th>\n",
       "      <th>TotalBsmtSF</th>\n",
       "      <th>GrLivArea</th>\n",
       "      <th>FullBath</th>\n",
       "      <th>GarageCars</th>\n",
       "      <th>Fireplaces</th>\n",
       "      <th>WoodDeckSF</th>\n",
       "      <th>OpenPorchSF</th>\n",
       "      <th>SaleCondition</th>\n",
       "      <th>KitchenQual</th>\n",
       "      <th>Heating</th>\n",
       "      <th>GarageType</th>\n",
       "    </tr>\n",
       "  </thead>\n",
       "  <tbody>\n",
       "    <tr>\n",
       "      <th>0</th>\n",
       "      <td>1</td>\n",
       "      <td>NaN</td>\n",
       "      <td>NaN</td>\n",
       "      <td>208500</td>\n",
       "      <td>8450</td>\n",
       "      <td>7</td>\n",
       "      <td>2003</td>\n",
       "      <td>2003</td>\n",
       "      <td>196.0</td>\n",
       "      <td>856</td>\n",
       "      <td>1710</td>\n",
       "      <td>2</td>\n",
       "      <td>2</td>\n",
       "      <td>0</td>\n",
       "      <td>0</td>\n",
       "      <td>61</td>\n",
       "      <td>Normal</td>\n",
       "      <td>Gd</td>\n",
       "      <td>GasA</td>\n",
       "      <td>Attchd</td>\n",
       "    </tr>\n",
       "    <tr>\n",
       "      <th>1</th>\n",
       "      <td>2</td>\n",
       "      <td>NaN</td>\n",
       "      <td>NaN</td>\n",
       "      <td>181500</td>\n",
       "      <td>9600</td>\n",
       "      <td>6</td>\n",
       "      <td>1976</td>\n",
       "      <td>1976</td>\n",
       "      <td>0.0</td>\n",
       "      <td>1262</td>\n",
       "      <td>1262</td>\n",
       "      <td>2</td>\n",
       "      <td>2</td>\n",
       "      <td>1</td>\n",
       "      <td>298</td>\n",
       "      <td>0</td>\n",
       "      <td>Normal</td>\n",
       "      <td>TA</td>\n",
       "      <td>GasA</td>\n",
       "      <td>Attchd</td>\n",
       "    </tr>\n",
       "    <tr>\n",
       "      <th>2</th>\n",
       "      <td>3</td>\n",
       "      <td>NaN</td>\n",
       "      <td>NaN</td>\n",
       "      <td>223500</td>\n",
       "      <td>11250</td>\n",
       "      <td>7</td>\n",
       "      <td>2002</td>\n",
       "      <td>2001</td>\n",
       "      <td>162.0</td>\n",
       "      <td>920</td>\n",
       "      <td>1786</td>\n",
       "      <td>2</td>\n",
       "      <td>2</td>\n",
       "      <td>1</td>\n",
       "      <td>0</td>\n",
       "      <td>42</td>\n",
       "      <td>Normal</td>\n",
       "      <td>Gd</td>\n",
       "      <td>GasA</td>\n",
       "      <td>Attchd</td>\n",
       "    </tr>\n",
       "    <tr>\n",
       "      <th>3</th>\n",
       "      <td>4</td>\n",
       "      <td>NaN</td>\n",
       "      <td>NaN</td>\n",
       "      <td>140000</td>\n",
       "      <td>9550</td>\n",
       "      <td>7</td>\n",
       "      <td>1970</td>\n",
       "      <td>1915</td>\n",
       "      <td>0.0</td>\n",
       "      <td>756</td>\n",
       "      <td>1717</td>\n",
       "      <td>1</td>\n",
       "      <td>3</td>\n",
       "      <td>1</td>\n",
       "      <td>0</td>\n",
       "      <td>35</td>\n",
       "      <td>Abnorml</td>\n",
       "      <td>Gd</td>\n",
       "      <td>GasA</td>\n",
       "      <td>Detchd</td>\n",
       "    </tr>\n",
       "    <tr>\n",
       "      <th>4</th>\n",
       "      <td>5</td>\n",
       "      <td>NaN</td>\n",
       "      <td>NaN</td>\n",
       "      <td>250000</td>\n",
       "      <td>14260</td>\n",
       "      <td>8</td>\n",
       "      <td>2000</td>\n",
       "      <td>2000</td>\n",
       "      <td>350.0</td>\n",
       "      <td>1145</td>\n",
       "      <td>2198</td>\n",
       "      <td>2</td>\n",
       "      <td>3</td>\n",
       "      <td>1</td>\n",
       "      <td>192</td>\n",
       "      <td>84</td>\n",
       "      <td>Normal</td>\n",
       "      <td>Gd</td>\n",
       "      <td>GasA</td>\n",
       "      <td>Attchd</td>\n",
       "    </tr>\n",
       "  </tbody>\n",
       "</table>\n",
       "</div>"
      ],
      "text/plain": [
       "   Id Alley Fence  SalePrice  LotArea  OverallQual  YearRemodAdd  YearBuilt  \\\n",
       "0   1   NaN   NaN     208500     8450            7          2003       2003   \n",
       "1   2   NaN   NaN     181500     9600            6          1976       1976   \n",
       "2   3   NaN   NaN     223500    11250            7          2002       2001   \n",
       "3   4   NaN   NaN     140000     9550            7          1970       1915   \n",
       "4   5   NaN   NaN     250000    14260            8          2000       2000   \n",
       "\n",
       "   MasVnrArea  TotalBsmtSF  GrLivArea  FullBath  GarageCars  Fireplaces  \\\n",
       "0       196.0          856       1710         2           2           0   \n",
       "1         0.0         1262       1262         2           2           1   \n",
       "2       162.0          920       1786         2           2           1   \n",
       "3         0.0          756       1717         1           3           1   \n",
       "4       350.0         1145       2198         2           3           1   \n",
       "\n",
       "   WoodDeckSF  OpenPorchSF SaleCondition KitchenQual Heating GarageType  \n",
       "0           0           61        Normal          Gd    GasA     Attchd  \n",
       "1         298            0        Normal          TA    GasA     Attchd  \n",
       "2           0           42        Normal          Gd    GasA     Attchd  \n",
       "3           0           35       Abnorml          Gd    GasA     Detchd  \n",
       "4         192           84        Normal          Gd    GasA     Attchd  "
      ]
     },
     "execution_count": 84,
     "metadata": {},
     "output_type": "execute_result"
    }
   ],
   "source": [
    "data.head()"
   ]
  },
  {
   "cell_type": "code",
   "execution_count": 85,
   "metadata": {},
   "outputs": [
    {
     "data": {
      "text/plain": [
       "Id               0.000000\n",
       "Alley            0.937671\n",
       "Fence            0.807534\n",
       "SalePrice        0.000000\n",
       "LotArea          0.000000\n",
       "OverallQual      0.000000\n",
       "YearRemodAdd     0.000000\n",
       "YearBuilt        0.000000\n",
       "MasVnrArea       0.005479\n",
       "TotalBsmtSF      0.000000\n",
       "GrLivArea        0.000000\n",
       "FullBath         0.000000\n",
       "GarageCars       0.000000\n",
       "Fireplaces       0.000000\n",
       "WoodDeckSF       0.000000\n",
       "OpenPorchSF      0.000000\n",
       "SaleCondition    0.000000\n",
       "KitchenQual      0.000000\n",
       "Heating          0.000000\n",
       "GarageType       0.055479\n",
       "dtype: float64"
      ]
     },
     "execution_count": 85,
     "metadata": {},
     "output_type": "execute_result"
    }
   ],
   "source": [
    "# compute proportion of missing values\n",
    "data.isna().sum() / len(data)"
   ]
  },
  {
   "cell_type": "code",
   "execution_count": 86,
   "metadata": {},
   "outputs": [],
   "source": [
    "# remove almost emty and id\n",
    "data.drop(['Alley', 'Fence', 'Id'], axis=1, inplace=True)"
   ]
  },
  {
   "cell_type": "code",
   "execution_count": 87,
   "metadata": {},
   "outputs": [],
   "source": [
    "# convert year to 'age'\n",
    "data['Age'] = data.YearBuilt.max() - data.YearBuilt\n",
    "data['RemodAge'] = data.YearRemodAdd.max() - data.YearRemodAdd\n",
    "\n",
    "data.drop(['YearBuilt','YearRemodAdd'], axis=1, inplace=True)"
   ]
  },
  {
   "cell_type": "code",
   "execution_count": 88,
   "metadata": {},
   "outputs": [
    {
     "data": {
      "image/png": "[encoded data removed]",
      "text/plain": [
       "<Figure size 432x288 with 1 Axes>"
      ]
     },
     "metadata": {
      "needs_background": "light"
     },
     "output_type": "display_data"
    },
    {
     "data": {
      "image/png": "[encoded data removed]",
      "text/plain": [
       "<Figure size 432x288 with 1 Axes>"
      ]
     },
     "metadata": {
      "needs_background": "light"
     },
     "output_type": "display_data"
    },
    {
     "data": {
      "image/png": "[encoded data removed]",
      "text/plain": [
       "<Figure size 432x288 with 1 Axes>"
      ]
     },
     "metadata": {
      "needs_background": "light"
     },
     "output_type": "display_data"
    },
    {
     "data": {
      "image/png": "[encoded data removed]",
      "text/plain": [
       "<Figure size 432x288 with 1 Axes>"
      ]
     },
     "metadata": {
      "needs_background": "light"
     },
     "output_type": "display_data"
    }
   ],
   "source": [
    "# make barplots for the categorical features\n",
    "object_columns = data.select_dtypes(include=['object'])\n",
    "for c in object_columns:\n",
    "    # your code here\n",
    "    data[c].value_counts().plot(kind='bar')\n",
    "    plt.title(c)\n",
    "    plt.show()"
   ]
  },
  {
   "cell_type": "code",
   "execution_count": 89,
   "metadata": {},
   "outputs": [],
   "source": [
    "# drop heating\n",
    "data.drop('Heating', axis=1, inplace=True)"
   ]
  },
  {
   "cell_type": "code",
   "execution_count": 90,
   "metadata": {},
   "outputs": [
    {
     "data": {
      "text/plain": [
       "Normal     1198\n",
       "Partial     125\n",
       "Abnorml     101\n",
       "Family       20\n",
       "Alloca       12\n",
       "AdjLand       4\n",
       "Name: SaleCondition, dtype: int64"
      ]
     },
     "execution_count": 90,
     "metadata": {},
     "output_type": "execute_result"
    }
   ],
   "source": [
    "# Sale Condition\n",
    "data.SaleCondition.value_counts()"
   ]
  },
  {
   "cell_type": "code",
   "execution_count": 91,
   "metadata": {},
   "outputs": [
    {
     "data": {
      "text/plain": [
       "Index(['SalePrice', 'LotArea', 'OverallQual', 'MasVnrArea', 'TotalBsmtSF',\n",
       "       'GrLivArea', 'FullBath', 'GarageCars', 'Fireplaces', 'WoodDeckSF',\n",
       "       'OpenPorchSF', 'SaleCondition', 'KitchenQual', 'GarageType', 'Age',\n",
       "       'RemodAge'],\n",
       "      dtype='object')"
      ]
     },
     "execution_count": 91,
     "metadata": {},
     "output_type": "execute_result"
    }
   ],
   "source": [
    "data.columns"
   ]
  },
  {
   "cell_type": "markdown",
   "metadata": {},
   "source": [
    "### 1.2  Separate features form the target and perform train-test split\n",
    "\n",
    "Function `train_test_split` randomly split dataset into two parts: training data, that we will use to find optimal parameters of the model and test data, which will be used to report the final performance. "
   ]
  },
  {
   "cell_type": "code",
   "execution_count": 92,
   "metadata": {},
   "outputs": [],
   "source": [
    "from sklearn.model_selection import train_test_split\n",
    "\n",
    "tr, te = train_test_split(data, test_size=0.2, random_state=42)\n",
    "\n",
    "y_train = tr.SalePrice\n",
    "y_test = te.SalePrice\n",
    "X_train = tr.drop(['SalePrice'], axis=1)\n",
    "X_test = te.drop(['SalePrice'], axis=1)"
   ]
  },
  {
   "cell_type": "markdown",
   "metadata": {},
   "source": [
    "### 1.3 Encode categorical and ordinal features, scale numerical ones"
   ]
  },
  {
   "cell_type": "code",
   "execution_count": 93,
   "metadata": {},
   "outputs": [
    {
     "data": {
      "text/html": [
       "<div>\n",
       "<style scoped>\n",
       "    .dataframe tbody tr th:only-of-type {\n",
       "        vertical-align: middle;\n",
       "    }\n",
       "\n",
       "    .dataframe tbody tr th {\n",
       "        vertical-align: top;\n",
       "    }\n",
       "\n",
       "    .dataframe thead th {\n",
       "        text-align: right;\n",
       "    }\n",
       "</style>\n",
       "<table border=\"1\" class=\"dataframe\">\n",
       "  <thead>\n",
       "    <tr style=\"text-align: right;\">\n",
       "      <th></th>\n",
       "      <th>SaleCondition</th>\n",
       "      <th>KitchenQual</th>\n",
       "      <th>GarageType</th>\n",
       "    </tr>\n",
       "  </thead>\n",
       "  <tbody>\n",
       "    <tr>\n",
       "      <th>254</th>\n",
       "      <td>Normal</td>\n",
       "      <td>TA</td>\n",
       "      <td>Attchd</td>\n",
       "    </tr>\n",
       "    <tr>\n",
       "      <th>1066</th>\n",
       "      <td>Normal</td>\n",
       "      <td>TA</td>\n",
       "      <td>Attchd</td>\n",
       "    </tr>\n",
       "    <tr>\n",
       "      <th>638</th>\n",
       "      <td>Normal</td>\n",
       "      <td>TA</td>\n",
       "      <td>NaN</td>\n",
       "    </tr>\n",
       "    <tr>\n",
       "      <th>799</th>\n",
       "      <td>Normal</td>\n",
       "      <td>Gd</td>\n",
       "      <td>Detchd</td>\n",
       "    </tr>\n",
       "    <tr>\n",
       "      <th>380</th>\n",
       "      <td>Normal</td>\n",
       "      <td>Gd</td>\n",
       "      <td>Detchd</td>\n",
       "    </tr>\n",
       "  </tbody>\n",
       "</table>\n",
       "</div>"
      ],
      "text/plain": [
       "     SaleCondition KitchenQual GarageType\n",
       "254         Normal          TA     Attchd\n",
       "1066        Normal          TA     Attchd\n",
       "638         Normal          TA        NaN\n",
       "799         Normal          Gd     Detchd\n",
       "380         Normal          Gd     Detchd"
      ]
     },
     "execution_count": 93,
     "metadata": {},
     "output_type": "execute_result"
    }
   ],
   "source": [
    "object_columns = X_train.select_dtypes(include=['object'])\n",
    "numeric_columns = X_train.select_dtypes(exclude=['object'])\n",
    "\n",
    "object_columns.head()"
   ]
  },
  {
   "cell_type": "code",
   "execution_count": 94,
   "metadata": {},
   "outputs": [
    {
     "data": {
      "text/plain": [
       "SaleCondition     0\n",
       "KitchenQual       0\n",
       "GarageType       64\n",
       "dtype: int64"
      ]
     },
     "execution_count": 94,
     "metadata": {},
     "output_type": "execute_result"
    }
   ],
   "source": [
    "# NA\n",
    "object_columns.isna().sum()"
   ]
  },
  {
   "cell_type": "code",
   "execution_count": 95,
   "metadata": {},
   "outputs": [
    {
     "data": {
      "text/html": [
       "<div>\n",
       "<style scoped>\n",
       "    .dataframe tbody tr th:only-of-type {\n",
       "        vertical-align: middle;\n",
       "    }\n",
       "\n",
       "    .dataframe tbody tr th {\n",
       "        vertical-align: top;\n",
       "    }\n",
       "\n",
       "    .dataframe thead th {\n",
       "        text-align: right;\n",
       "    }\n",
       "</style>\n",
       "<table border=\"1\" class=\"dataframe\">\n",
       "  <thead>\n",
       "    <tr style=\"text-align: right;\">\n",
       "      <th></th>\n",
       "      <th>LotArea</th>\n",
       "      <th>OverallQual</th>\n",
       "      <th>MasVnrArea</th>\n",
       "      <th>TotalBsmtSF</th>\n",
       "      <th>GrLivArea</th>\n",
       "      <th>FullBath</th>\n",
       "      <th>GarageCars</th>\n",
       "      <th>Fireplaces</th>\n",
       "      <th>WoodDeckSF</th>\n",
       "      <th>OpenPorchSF</th>\n",
       "      <th>Age</th>\n",
       "      <th>RemodAge</th>\n",
       "    </tr>\n",
       "  </thead>\n",
       "  <tbody>\n",
       "    <tr>\n",
       "      <th>254</th>\n",
       "      <td>8400</td>\n",
       "      <td>5</td>\n",
       "      <td>0.0</td>\n",
       "      <td>1314</td>\n",
       "      <td>1314</td>\n",
       "      <td>1</td>\n",
       "      <td>1</td>\n",
       "      <td>0</td>\n",
       "      <td>250</td>\n",
       "      <td>0</td>\n",
       "      <td>53</td>\n",
       "      <td>53</td>\n",
       "    </tr>\n",
       "    <tr>\n",
       "      <th>1066</th>\n",
       "      <td>7837</td>\n",
       "      <td>6</td>\n",
       "      <td>0.0</td>\n",
       "      <td>799</td>\n",
       "      <td>1571</td>\n",
       "      <td>2</td>\n",
       "      <td>2</td>\n",
       "      <td>1</td>\n",
       "      <td>0</td>\n",
       "      <td>40</td>\n",
       "      <td>17</td>\n",
       "      <td>16</td>\n",
       "    </tr>\n",
       "    <tr>\n",
       "      <th>638</th>\n",
       "      <td>8777</td>\n",
       "      <td>5</td>\n",
       "      <td>0.0</td>\n",
       "      <td>796</td>\n",
       "      <td>796</td>\n",
       "      <td>1</td>\n",
       "      <td>0</td>\n",
       "      <td>0</td>\n",
       "      <td>328</td>\n",
       "      <td>0</td>\n",
       "      <td>100</td>\n",
       "      <td>60</td>\n",
       "    </tr>\n",
       "    <tr>\n",
       "      <th>799</th>\n",
       "      <td>7200</td>\n",
       "      <td>5</td>\n",
       "      <td>252.0</td>\n",
       "      <td>731</td>\n",
       "      <td>1768</td>\n",
       "      <td>1</td>\n",
       "      <td>1</td>\n",
       "      <td>2</td>\n",
       "      <td>0</td>\n",
       "      <td>0</td>\n",
       "      <td>73</td>\n",
       "      <td>60</td>\n",
       "    </tr>\n",
       "    <tr>\n",
       "      <th>380</th>\n",
       "      <td>5000</td>\n",
       "      <td>5</td>\n",
       "      <td>0.0</td>\n",
       "      <td>1026</td>\n",
       "      <td>1691</td>\n",
       "      <td>2</td>\n",
       "      <td>1</td>\n",
       "      <td>1</td>\n",
       "      <td>0</td>\n",
       "      <td>0</td>\n",
       "      <td>86</td>\n",
       "      <td>60</td>\n",
       "    </tr>\n",
       "  </tbody>\n",
       "</table>\n",
       "</div>"
      ],
      "text/plain": [
       "      LotArea  OverallQual  MasVnrArea  TotalBsmtSF  GrLivArea  FullBath  \\\n",
       "254      8400            5         0.0         1314       1314         1   \n",
       "1066     7837            6         0.0          799       1571         2   \n",
       "638      8777            5         0.0          796        796         1   \n",
       "799      7200            5       252.0          731       1768         1   \n",
       "380      5000            5         0.0         1026       1691         2   \n",
       "\n",
       "      GarageCars  Fireplaces  WoodDeckSF  OpenPorchSF  Age  RemodAge  \n",
       "254            1           0         250            0   53        53  \n",
       "1066           2           1           0           40   17        16  \n",
       "638            0           0         328            0  100        60  \n",
       "799            1           2           0            0   73        60  \n",
       "380            1           1           0            0   86        60  "
      ]
     },
     "execution_count": 95,
     "metadata": {},
     "output_type": "execute_result"
    }
   ],
   "source": [
    "numeric_columns.head()"
   ]
  },
  {
   "cell_type": "code",
   "execution_count": 96,
   "metadata": {},
   "outputs": [
    {
     "data": {
      "text/plain": [
       "LotArea        0\n",
       "OverallQual    0\n",
       "MasVnrArea     6\n",
       "TotalBsmtSF    0\n",
       "GrLivArea      0\n",
       "FullBath       0\n",
       "GarageCars     0\n",
       "Fireplaces     0\n",
       "WoodDeckSF     0\n",
       "OpenPorchSF    0\n",
       "Age            0\n",
       "RemodAge       0\n",
       "dtype: int64"
      ]
     },
     "execution_count": 96,
     "metadata": {},
     "output_type": "execute_result"
    }
   ],
   "source": [
    "# NA\n",
    "numeric_columns.isna().sum()"
   ]
  },
  {
   "cell_type": "code",
   "execution_count": 97,
   "metadata": {},
   "outputs": [
    {
     "data": {
      "text/plain": [
       "0"
      ]
     },
     "execution_count": 97,
     "metadata": {},
     "output_type": "execute_result"
    }
   ],
   "source": [
    "data[data.GarageType.isna()].GarageCars.max()"
   ]
  },
  {
   "cell_type": "code",
   "execution_count": 98,
   "metadata": {},
   "outputs": [],
   "source": [
    "# group cols by the preprocessing types\n",
    "ordinal_cols = ['KitchenQual']\n",
    "categ_cols = ['SaleCondition', 'GarageType'] \n",
    "area_cols = ['LotArea', 'MasVnrArea', 'TotalBsmtSF', 'GrLivArea', 'WoodDeckSF', 'OpenPorchSF']\n",
    "age_cols = ['Age', 'RemodAge']"
   ]
  },
  {
   "cell_type": "code",
   "execution_count": 99,
   "metadata": {},
   "outputs": [],
   "source": [
    "from sklearn.preprocessing import OrdinalEncoder, OneHotEncoder, StandardScaler\n",
    "from sklearn.impute import SimpleImputer\n",
    "from sklearn.pipeline import make_pipeline\n",
    "\n",
    "# define the preprocessings for each group of features\n",
    "\n",
    "ordinal_prep = OrdinalEncoder(categories=[['Fa','TA','Gd','Ex']])\n",
    "\n",
    "categ_prep = make_pipeline(\n",
    "    SimpleImputer(strategy='constant',fill_value='None'),\n",
    "    OneHotEncoder()\n",
    ")\n",
    "area_prep = make_pipeline(\n",
    "    SimpleImputer(strategy='constant',fill_value=0.),\n",
    "    StandardScaler()\n",
    ")\n",
    "age_prep = make_pipeline(\n",
    "    StandardScaler()\n",
    ")"
   ]
  },
  {
   "cell_type": "markdown",
   "metadata": {},
   "source": [
    "Now we need to apply different transformation to different columns. \n",
    "\n",
    "`ColumnTransformer` is a very usefull function, which will allow us to do that!"
   ]
  },
  {
   "cell_type": "code",
   "execution_count": 100,
   "metadata": {},
   "outputs": [],
   "source": [
    "from sklearn.compose import ColumnTransformer\n",
    "\n",
    "# define column transformer\n",
    "column_transforms = ColumnTransformer([\n",
    "    ('ordinal', ordinal_prep, ordinal_cols),\n",
    "    ('categ', categ_prep, categ_cols),\n",
    "    ('area', area_prep, area_cols),\n",
    "    ('age', age_prep, age_cols),\n",
    "], remainder='passthrough')"
   ]
  },
  {
   "cell_type": "markdown",
   "metadata": {},
   "source": [
    "## 2. Train the model\n",
    "\n",
    "Now, we are ready to train the model. We will use `LinearRegression` model. "
   ]
  },
  {
   "cell_type": "code",
   "execution_count": 103,
   "metadata": {
    "scrolled": true
   },
   "outputs": [],
   "source": [
    "from sklearn.linear_model import LinearRegression\n",
    "\n",
    "# create and fit a pipeline on train dataset\n",
    "pipe = make_pipeline(\n",
    "    column_transforms,\n",
    "    LinearRegression()\n",
    ")\n",
    "# make predictions on test\n",
    "pipe.fit(X_train, y_train)\n",
    "y_pred = pipe.predict(X_test)"
   ]
  },
  {
   "cell_type": "markdown",
   "metadata": {},
   "source": [
    "## 3. Evaluate on the test set\n",
    "\n",
    "$$\n",
    "\\text{MSE} = \\frac{1}{N}\\sum_i \\left(y_i - \\hat{y}_i   \\right)^2 \n",
    "$$"
   ]
  },
  {
   "cell_type": "code",
   "execution_count": 104,
   "metadata": {},
   "outputs": [
    {
     "data": {
      "text/plain": [
       "1340809642.1276731"
      ]
     },
     "execution_count": 104,
     "metadata": {},
     "output_type": "execute_result"
    }
   ],
   "source": [
    "from sklearn.metrics import mean_squared_error\n",
    "mean_squared_error(y_test, y_pred)"
   ]
  },
  {
   "cell_type": "markdown",
   "metadata": {},
   "source": [
    "---\n",
    "\n",
    "\n",
    "# [Optional task] Part 2. Evaluating Linear Regression\n",
    "\n",
    "### 1. MSE,  RMSE and MAE\n",
    "\n",
    "$$\n",
    "\\text{MSE} = \\tfrac1N \\sum_i \\left(y_i - \\hat{y}_i   \\right)^2 \n",
    "$$\n",
    "\n",
    "$$\n",
    "\\text{RMSE} = \\sqrt{ \\tfrac1N\\sum_i \\left(y_i - \\hat{y}_i   \\right)^2 }\n",
    "$$\n",
    "\n",
    "$$\n",
    "\\text{MAE} = \\tfrac1N \\sum_i \\left|y_i - \\hat{y}_i   \\right| \n",
    "$$\n",
    "\n",
    "Submodule `sklearn.metrics` has most of the useful metrics implemented. Except for `RMSE`:)"
   ]
  },
  {
   "cell_type": "code",
   "execution_count": 109,
   "metadata": {},
   "outputs": [],
   "source": [
    "from sklearn.metrics import mean_squared_error, mean_absolute_error"
   ]
  },
  {
   "cell_type": "code",
   "execution_count": 110,
   "metadata": {},
   "outputs": [
    {
     "data": {
      "text/plain": [
       "1340809642.1276731"
      ]
     },
     "execution_count": 110,
     "metadata": {},
     "output_type": "execute_result"
    }
   ],
   "source": [
    "# calculate MSE on the test\n",
    "mean_squared_error(y_test, y_pred)"
   ]
  },
  {
   "cell_type": "code",
   "execution_count": 111,
   "metadata": {},
   "outputs": [
    {
     "data": {
      "text/plain": [
       "36617.06763420131"
      ]
     },
     "execution_count": 111,
     "metadata": {},
     "output_type": "execute_result"
    }
   ],
   "source": [
    "# calculate RMSE on the test\n",
    "mean_squared_error(y_test, y_pred) ** 0.5"
   ]
  },
  {
   "cell_type": "code",
   "execution_count": 112,
   "metadata": {},
   "outputs": [
    {
     "data": {
      "text/plain": [
       "23530.147768179853"
      ]
     },
     "execution_count": 112,
     "metadata": {},
     "output_type": "execute_result"
    }
   ],
   "source": [
    "# calculate MAE on the test\n",
    "mean_absolute_error(y_test, y_pred)"
   ]
  },
  {
   "cell_type": "markdown",
   "metadata": {},
   "source": [
    "### 2. Mean Squared Logarithmic Error (MSLE)\n",
    "\n",
    "Sometimes it is useful to account for small errors in the observation with low `y` just as for the large values in the observation with large `y`.\n",
    "\n",
    "$$\n",
    "\\text{MSLE} = \\tfrac1N \\sum_i \\left(\\log(y_i+1) - \\log(\\hat{y}_i+1)   \\right)^2  = \\tfrac1N \\sum_i \\left(\\log \\left(\\tfrac{y_i+1}{\\hat{y}_i+1}\\right)  \\right)^2\n",
    "$$"
   ]
  },
  {
   "cell_type": "code",
   "execution_count": 113,
   "metadata": {},
   "outputs": [
    {
     "data": {
      "text/plain": [
       "0.03439122104849679"
      ]
     },
     "execution_count": 113,
     "metadata": {},
     "output_type": "execute_result"
    }
   ],
   "source": [
    "from sklearn.metrics import mean_squared_log_error\n",
    "\n",
    "# calculate MSLE on the test\n",
    "mean_squared_log_error(y_test, y_pred)"
   ]
  },
  {
   "cell_type": "code",
   "execution_count": 114,
   "metadata": {},
   "outputs": [
    {
     "data": {
      "image/png": "[encoded data removed]",
      "text/plain": [
       "<Figure size 864x288 with 2 Axes>"
      ]
     },
     "metadata": {
      "needs_background": "light"
     },
     "output_type": "display_data"
    }
   ],
   "source": [
    "fig, ax = plt.subplots(ncols=2, figsize=(12, 4))\n",
    "ax[0].hist(y_train, bins=50);\n",
    "ax[0].set_title('Histogram of a target variable')\n",
    "ax[0].grid()\n",
    "ax[1].hist(np.log(y_train), bins=50);\n",
    "ax[1].set_title('Histogram of a logarithm of a target variable')\n",
    "ax[1].grid()"
   ]
  },
  {
   "cell_type": "markdown",
   "metadata": {},
   "source": [
    "Looks like the logarithm of the target variable look more \"normal\". It may actually be helpful during training! Let's check:\n",
    "\n",
    "- Transform the target variable ($y$ -> $\\log y$) \n",
    "- Fit previously defined pipeline\n",
    "- Calculate the `MSLE` and compare to the one obtained before"
   ]
  },
  {
   "cell_type": "code",
   "execution_count": null,
   "metadata": {},
   "outputs": [],
   "source": []
  }
 ],
 "metadata": {
  "kernelspec": {
   "display_name": "Python 3 (ipykernel)",
   "language": "python",
   "name": "python3"
  },
  "language_info": {
   "codemirror_mode": {
    "name": "ipython",
    "version": 3
   },
   "file_extension": ".py",
   "mimetype": "text/x-python",
   "name": "python",
   "nbconvert_exporter": "python",
   "pygments_lexer": "ipython3",
   "version": "3.8.11"
  }
 },
 "nbformat": 4,
 "nbformat_minor": 4
}
